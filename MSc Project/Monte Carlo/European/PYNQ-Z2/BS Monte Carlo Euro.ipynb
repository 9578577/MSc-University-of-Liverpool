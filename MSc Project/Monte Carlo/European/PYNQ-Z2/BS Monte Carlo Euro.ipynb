{
 "cells": [
  {
   "cell_type": "code",
   "execution_count": 1,
   "metadata": {},
   "outputs": [
    {
     "data": {
      "application/javascript": [
       "\n",
       "require(['notebook/js/codecell'], function(codecell) {\n",
       "  codecell.CodeCell.options_default.highlight_modes[\n",
       "      'magic_text/x-csrc'] = {'reg':[/^%%microblaze/]};\n",
       "  Jupyter.notebook.events.one('kernel_ready.Kernel', function(){\n",
       "      Jupyter.notebook.get_cells().map(function(cell){\n",
       "          if (cell.cell_type == 'code'){ cell.auto_highlight(); } }) ;\n",
       "  });\n",
       "});\n"
      ]
     },
     "metadata": {},
     "output_type": "display_data"
    }
   ],
   "source": [
    "from pynq import DefaultIP\n",
    "from pynq import Overlay\n",
    "from pynq import Xlnk\n",
    "import numpy as np\n",
    "import datetime\n",
    "import math"
   ]
  },
  {
   "cell_type": "code",
   "execution_count": 2,
   "metadata": {},
   "outputs": [],
   "source": [
    "class MonteCarloDriver(DefaultIP):\n",
    "    def __init__(self, description):\n",
    "        super().__init__(description=description)\n",
    "\n",
    "    bindto = ['xilinx.com:hls:eu_monte_carlo:1.0']\n",
    "\n",
    "    @property\n",
    "    def status(self):\n",
    "        return self.read(0x00)\n",
    "    \n",
    "    @status.setter\n",
    "    def status(self, value):\n",
    "        self.write(0x00, value)\n",
    "\n",
    "    @property\n",
    "    def output(self):\n",
    "        return self.read(0x10)\n",
    "\n",
    "    @output.setter\n",
    "    def output(self, value):\n",
    "        self.write(0x10, value)\n",
    "\n",
    "    @property\n",
    "    def spot_price(self):\n",
    "        return self.read(0x18)\n",
    "\n",
    "    @spot_price.setter\n",
    "    def spot_price(self, value):\n",
    "        self.write(0x18, value)\n",
    "\n",
    "    @property\n",
    "    def strike_price(self):\n",
    "        return self.read(0x20)\n",
    "\n",
    "    @strike_price.setter\n",
    "    def strike_price(self, value):\n",
    "        self.write(0x20, value)\n",
    "\n",
    "    @property\n",
    "    def time_to_maturity(self):\n",
    "        return self.read(0x28)\n",
    "\n",
    "    @time_to_maturity.setter\n",
    "    def time_to_maturity(self, value):\n",
    "        self.write(0x28, value)\n",
    "\n",
    "    @property\n",
    "    def dividend_yield(self):\n",
    "        return self.read(0x30)\n",
    "\n",
    "    @dividend_yield.setter\n",
    "    def dividend_yield(self, value):\n",
    "        self.write(0x30, value)\n",
    "        \n",
    "    @property\n",
    "    def risk_free_rate(self):\n",
    "        return self.read(0x38)\n",
    "\n",
    "    @risk_free_rate.setter\n",
    "    def risk_free_rate(self, value):\n",
    "        self.write(0x38, value)\n",
    "\n",
    "    @property\n",
    "    def volatility(self):\n",
    "        return self.read(0x40)\n",
    "\n",
    "    @volatility.setter\n",
    "    def volatility(self, value):\n",
    "        self.write(0x40, value)\n",
    "        \n",
    "    @property\n",
    "    def type_r(self):\n",
    "        return self.read(0x48)\n",
    "    \n",
    "    @type_r.setter\n",
    "    def type_r(self, value):\n",
    "        self.write(0x48, value)\n",
    "        \n",
    "    @property\n",
    "    def M(self):\n",
    "        return self.read(0x50)\n",
    "    \n",
    "    @M.setter\n",
    "    def M(self, value):\n",
    "        self.write(0x50, value)\n",
    "        \n",
    "    @property\n",
    "    def N(self):\n",
    "        return self.read(0x58)\n",
    "    \n",
    "    @N.setter\n",
    "    def N(self, value):\n",
    "        self.write(0x58, value)"
   ]
  },
  {
   "cell_type": "code",
   "execution_count": 3,
   "metadata": {},
   "outputs": [
    {
     "data": {
      "text/plain": [
       "1.110389"
      ]
     },
     "execution_count": 3,
     "metadata": {},
     "output_type": "execute_result"
    }
   ],
   "source": [
    "t0 = datetime.datetime.now()\n",
    "overlay = Overlay(\"./overlay/monte_carlo_euro.bit\")\n",
    "MonteCarlo = overlay.monte_carlo\n",
    "t1 = datetime.datetime.now()\n",
    "\n",
    "# Time taken in seconds\n",
    "delta = t1 - t0\n",
    "(delta.microseconds / 1000000) + delta.seconds"
   ]
  },
  {
   "cell_type": "code",
   "execution_count": 4,
   "metadata": {},
   "outputs": [],
   "source": [
    "xlnk = Xlnk()\n",
    "S = xlnk.cma_array(shape=(1), dtype=np.float32)\n",
    "K = xlnk.cma_array(shape=(1), dtype=np.float32)\n",
    "T = xlnk.cma_array(shape=(1), dtype=np.float32)\n",
    "D = xlnk.cma_array(shape=(1), dtype=np.float32)\n",
    "r = xlnk.cma_array(shape=(1), dtype=np.float32)\n",
    "v = xlnk.cma_array(shape=(1), dtype=np.float32)"
   ]
  },
  {
   "cell_type": "code",
   "execution_count": 5,
   "metadata": {},
   "outputs": [],
   "source": [
    "S[0] = 50\n",
    "K[0] = 50\n",
    "T[0] = 1\n",
    "D[0] = 0\n",
    "r[0] = 0.05\n",
    "v[0] = 0.20\n",
    "type_r = 1\n",
    "M = 1000000\n",
    "N = 100\n",
    "output = xlnk.cma_array(shape=(M), dtype=np.float32)"
   ]
  },
  {
   "cell_type": "code",
   "execution_count": 6,
   "metadata": {},
   "outputs": [],
   "source": [
    "ap_start = 1\n",
    "ap_done = 2\n",
    "ap_idle = 4\n",
    "ap_ready = 8\n",
    "\n",
    "MonteCarlo.output = output.physical_address\n",
    "MonteCarlo.spot_price = S.physical_address\n",
    "MonteCarlo.strike_price = K.physical_address\n",
    "MonteCarlo.time_to_maturity = T.physical_address\n",
    "MonteCarlo.dividend_yield = D.physical_address\n",
    "MonteCarlo.risk_free_rate = r.physical_address\n",
    "MonteCarlo.volatility = v.physical_address\n",
    "MonteCarlo.type_r = type_r\n",
    "MonteCarlo.M = M\n",
    "MonteCarlo.N = N"
   ]
  },
  {
   "cell_type": "code",
   "execution_count": 7,
   "metadata": {},
   "outputs": [
    {
     "name": "stdout",
     "output_type": "stream",
     "text": [
      "CPU times: user 2min 29s, sys: 79.1 ms, total: 2min 29s\n",
      "Wall time: 2min 29s\n"
     ]
    }
   ],
   "source": [
    "%%time\n",
    "t0 = datetime.datetime.now()\n",
    "status = 0\n",
    "\n",
    "if (MonteCarlo.status == ap_idle) or (MonteCarlo.status == ap_ready):\n",
    "    MonteCarlo.status = ap_start\n",
    "    \n",
    "    while(status != ap_idle):\n",
    "        status = MonteCarlo.status\n",
    "\n",
    "t1 = datetime.datetime.now()"
   ]
  },
  {
   "cell_type": "code",
   "execution_count": 8,
   "metadata": {},
   "outputs": [
    {
     "data": {
      "text/plain": [
       "149.549566"
      ]
     },
     "execution_count": 8,
     "metadata": {},
     "output_type": "execute_result"
    }
   ],
   "source": [
    "# Time taken in seconds\n",
    "delta = t1 - t0\n",
    "(delta.microseconds / 1000000) + delta.seconds"
   ]
  },
  {
   "cell_type": "code",
   "execution_count": 9,
   "metadata": {},
   "outputs": [],
   "source": [
    "# Determine Option Price\n",
    "if(type_r == 0):\n",
    "    for i in range(M):\n",
    "        output[i] = max(output[i] - K[0], 0)\n",
    "else:\n",
    "    for i in range(M):\n",
    "        output[i] = max(K[0] - output[i], 0)"
   ]
  },
  {
   "cell_type": "code",
   "execution_count": 11,
   "metadata": {},
   "outputs": [
    {
     "name": "stdout",
     "output_type": "stream",
     "text": [
      "Option value  2.76814928239\n"
     ]
    }
   ],
   "source": [
    "# Calculate the standard error\n",
    "sum_CT = 0\n",
    "sum_CT2 = 0\n",
    "\n",
    "for i in range(M):\n",
    "    sum_CT += output[i]\n",
    "    sum_CT2 += output[i]\n",
    "    \n",
    "# Calculate standard deviation\n",
    "# sd = math.sqrt((sum_CT2 - (sum_CT * sum_CT) / M) * math.exp(-2 * r * T) / (M - 1))\n",
    "\n",
    "print(\"Option value \", (sum_CT / M * math.exp(-r * T)))\n",
    "# print(\"Standard deviation \", sd)"
   ]
  },
  {
   "cell_type": "code",
   "execution_count": null,
   "metadata": {},
   "outputs": [],
   "source": []
  }
 ],
 "metadata": {
  "kernelspec": {
   "display_name": "Python 3",
   "language": "python",
   "name": "python3"
  },
  "language_info": {
   "codemirror_mode": {
    "name": "ipython",
    "version": 3
   },
   "file_extension": ".py",
   "mimetype": "text/x-python",
   "name": "python",
   "nbconvert_exporter": "python",
   "pygments_lexer": "ipython3",
   "version": "3.6.5"
  }
 },
 "nbformat": 4,
 "nbformat_minor": 2
}
